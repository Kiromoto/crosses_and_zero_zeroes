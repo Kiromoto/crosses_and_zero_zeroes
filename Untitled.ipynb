{
 "cells": [
  {
   "cell_type": "code",
   "execution_count": 13,
   "id": "89702973-51a7-4d68-a6ad-2f463b7f0a71",
   "metadata": {},
   "outputs": [],
   "source": [
    "def show_field():\n",
    "    print()\n",
    "    print('  | 1 | 2 | 3 |')\n",
    "    print('---------------')\n",
    "    for i, row in enumerate(field_play, start=1):\n",
    "        print(f'{i} | {\" | \".join(row)} |')\n",
    "        print('---------------')\n",
    "    print()\n",
    "    \n",
    "field_play = [[\" \"] * 3 for _ in range(3)]    \n",
    "show_field()\n",
    "\n",
    "def show_field():\n",
    "    print()\n",
    "    print('  | 1 | 2 | 3 |')\n",
    "    print('---------------')\n",
    "    for i, row in enumerate(field_play, start=1):\n",
    "        print(f'{i} | {\" | \".join(row)} |')\n",
    "        print('---------------')\n",
    "    print()\n",
    "    \n",
    "field_play = [[\" \"] * 3 for _ in range(3)]    \n",
    "show_field()"
   ]
  },
  {
   "cell_type": "code",
   "execution_count": 13,
   "id": "61029fc3-598f-4996-b2dd-a56bfed4ab40",
   "metadata": {},
   "outputs": [],
   "source": [
    "def show_field():\n",
    "    print()\n",
    "    print('  | 1 | 2 | 3 |')\n",
    "    print('---------------')\n",
    "    for i, row in enumerate(field_play, start=1):\n",
    "        print(f'{i} | {\" | \".join(row)} |')\n",
    "        print('---------------')\n",
    "    print()\n",
    "    \n",
    "field_play = [[\" \"] * 3 for _ in range(3)]    \n",
    "show_field()\n",
    "\n",
    "def show_field():\n",
    "    print()\n",
    "    print('  | 1 | 2 | 3 |')\n",
    "    print('---------------')\n",
    "    for i, row in enumerate(field_play, start=1):\n",
    "        print(f'{i} | {\" | \".join(row)} |')\n",
    "        print('---------------')\n",
    "    print()\n",
    "    \n",
    "field_play = [[\" \"] * 3 for _ in range(3)]    \n",
    "show_field()"
   ]
  },
  {
   "cell_type": "code",
   "execution_count": 14,
   "id": "f1f213cf-6ea6-4219-9f9c-35862c2908c3",
   "metadata": {},
   "outputs": [
    {
     "name": "stdout",
     "output_type": "stream",
     "text": [
      "True\n"
     ]
    }
   ],
   "source": [
    "x = '1'\n",
    "print(x.isdigit())"
   ]
  },
  {
   "cell_type": "code",
   "execution_count": null,
   "id": "bc7b2621-40f7-443c-91a4-9061c529927b",
   "metadata": {},
   "outputs": [],
   "source": []
  }
 ],
 "metadata": {
  "kernelspec": {
   "display_name": "Python 3 (ipykernel)",
   "language": "python",
   "name": "python3"
  },
  "language_info": {
   "codemirror_mode": {
    "name": "ipython",
    "version": 3
   },
   "file_extension": ".py",
   "mimetype": "text/x-python",
   "name": "python",
   "nbconvert_exporter": "python",
   "pygments_lexer": "ipython3",
   "version": "3.10.4"
  }
 },
 "nbformat": 4,
 "nbformat_minor": 5
}
